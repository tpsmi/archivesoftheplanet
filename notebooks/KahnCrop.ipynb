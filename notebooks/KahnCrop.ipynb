{
 "cells": [
  {
   "cell_type": "code",
   "execution_count": 3,
   "id": "5fe08938",
   "metadata": {},
   "outputs": [],
   "source": [
    "from PIL import Image\n",
    "import os\n",
    "from tqdm import tqdm\n",
    "import glob\n",
    "import shutil\n",
    "import pickle"
   ]
  },
  {
   "cell_type": "code",
   "execution_count": 7,
   "id": "e622da18",
   "metadata": {},
   "outputs": [
    {
     "name": "stderr",
     "output_type": "stream",
     "text": [
      "100%|██████████| 3532/3532 [01:21<00:00, 43.38it/s]\n"
     ]
    }
   ],
   "source": [
    "# Path to the input folder where the autochromes are stored\n",
    "InputFolder = '/path/to/your/input/folder'  # REPLACE with your input folder path\n",
    "\n",
    "# Path to the output folder where the cropped images will be saved\n",
    "OutputFolder = '/path/to/your/input/folder'\n",
    "\n",
    "# List to store filenames of images that failed to process\n",
    "notdl = []\n",
    "\n",
    "# Loop through each file in the specified input directory\n",
    "for file in tqdm(os.listdir(InputFolder)):\n",
    "    try:\n",
    "        # Open the image using the Pillow library\n",
    "        img = Image.open(os.path.join(InputFolder, file))\n",
    "\n",
    "        # These fractions determine the cropping area of the image.\n",
    "        # frac1 determines the left and right boundaries of the cropped area.\n",
    "        # frac2 determines the bottom boundary of the cropped area.\n",
    "        # Note: We've increased the crop on the bottom to remove the museum watermark\n",
    "        frac1 = 0.92\n",
    "        frac2 = 0.75\n",
    "\n",
    "        # Calculate the coordinates for the left, upper, right, and bottom boundaries of the cropped area\n",
    "        left = img.size[0] * ((1 - frac1) / 2)\n",
    "        upper = img.size[1] * ((1 - frac1) / 2)\n",
    "        right = img.size[0] - ((1 - frac1) / 2) * img.size[0]\n",
    "        bottom = img.size[1] - ((1 - frac2) / 2) * img.size[1]\n",
    "\n",
    "        # Crop the image using the calculated coordinates\n",
    "        imcrop = img.crop((left, upper, right, bottom))\n",
    "        \n",
    "        # Save the cropped image to the specified output folder\n",
    "        imcrop.save(os.path.join(OutputFolder, file))\n",
    "    except:\n",
    "        # If there's any error while processing an image, add its filename to the notdl list\n",
    "        notdl.append(file)"
   ]
  }
 ],
 "metadata": {
  "kernelspec": {
   "display_name": "Python 3 (ipykernel)",
   "language": "python",
   "name": "python3"
  },
  "language_info": {
   "codemirror_mode": {
    "name": "ipython",
    "version": 3
   },
   "file_extension": ".py",
   "mimetype": "text/x-python",
   "name": "python",
   "nbconvert_exporter": "python",
   "pygments_lexer": "ipython3",
   "version": "3.11.3"
  }
 },
 "nbformat": 4,
 "nbformat_minor": 5
}
