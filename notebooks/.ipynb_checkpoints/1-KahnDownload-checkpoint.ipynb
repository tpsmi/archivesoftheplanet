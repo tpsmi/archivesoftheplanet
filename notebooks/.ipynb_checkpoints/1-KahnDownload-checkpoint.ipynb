{
 "cells": [
  {
   "cell_type": "code",
   "execution_count": 1,
   "id": "f63132bf",
   "metadata": {},
   "outputs": [],
   "source": [
    "import requests\n",
    "import os\n",
    "import glob\n",
    "import pandas as pd\n",
    "from tqdm import tqdm"
   ]
  },
  {
   "cell_type": "code",
   "execution_count": 12,
   "id": "989615ad",
   "metadata": {},
   "outputs": [],
   "source": [
    "# Read the CSV file named 'kahn.csv' into a DataFrame named 'df'\n",
    "df = pd.read_csv('data/kahnfull.csv')\n",
    "\n",
    "# Extract the column named 'Photo' from the DataFrame 'df' and convert it to a list.\n",
    "# Store this list in the variable named 'urls'. This list likely contains URLs of photos.\n",
    "urls = df['Photo'].tolist()"
   ]
  },
  {
   "cell_type": "code",
   "execution_count": 4,
   "id": "4337231f",
   "metadata": {},
   "outputs": [
    {
     "name": "stderr",
     "output_type": "stream",
     "text": [
      "100%|██████████| 65083/65083 [06:34<00:00, 164.98it/s]  \n"
     ]
    }
   ],
   "source": [
    "# create a filename that's the identifier portion of the item URL\n",
    "for url in tqdm(urls[:70000]):\n",
    "    try:\n",
    "        filename = url.rsplit('/', 1)[-1]\n",
    "        filename = filename + \".jpg\"\n",
    "    except:\n",
    "        continue\n",
    "    \n",
    "    if glob.glob(filename):\n",
    "        pass\n",
    "    else:\n",
    "        image_response = requests.get(url, stream=True, timeout=15)\n",
    "        with open(filename, 'wb') as fd:\n",
    "            for chunk in image_response.iter_content(chunk_size=100000):\n",
    "                fd.write(chunk)"
   ]
  },
  {
   "cell_type": "code",
   "execution_count": 20,
   "id": "f5fe4c5f",
   "metadata": {},
   "outputs": [
    {
     "name": "stdout",
     "output_type": "stream",
     "text": [
      "https://opendata.hauts-de-seine.fr/api/v2/catalog/datasets/archives-de-la-planete/files/fcfb754986af61668a8fb7a91d858398\n",
      "https://opendata.hauts-de-seine.fr/api/v2/catalog/datasets/archives-de-la-planete/files/aa0c22a201256c57af09c1f3e08184c6\n",
      "https://opendata.hauts-de-seine.fr/api/v2/catalog/datasets/archives-de-la-planete/files/70267463d27e8530000b8348d730e3d3\n",
      "https://opendata.hauts-de-seine.fr/api/v2/catalog/datasets/archives-de-la-planete/files/c38e544e0918fb48841e78bdfd719698\n",
      "https://opendata.hauts-de-seine.fr/api/v2/catalog/datasets/archives-de-la-planete/files/29576236d1aa3bd200241d11d02506e5\n",
      "https://opendata.hauts-de-seine.fr/api/v2/catalog/datasets/archives-de-la-planete/files/36897ced23ac5f9b24eea238ddf3f388\n",
      "https://opendata.hauts-de-seine.fr/api/v2/catalog/datasets/archives-de-la-planete/files/75e415b8ef5e44d6526a00069f08d757\n",
      "https://opendata.hauts-de-seine.fr/api/v2/catalog/datasets/archives-de-la-planete/files/3af66a3f27af3fc4f69f54c70ba51cb6\n",
      "https://opendata.hauts-de-seine.fr/api/v2/catalog/datasets/archives-de-la-planete/files/e647993172ac467c68e136feebf9e76e\n",
      "https://opendata.hauts-de-seine.fr/api/v2/catalog/datasets/archives-de-la-planete/files/964c3a34dbb2ac5654df1ff23f8ee6d9\n"
     ]
    }
   ],
   "source": [
    "for file in notdl[:10]:\n",
    "    fileshort = file[:-4]\n",
    "    url = 'https://opendata.hauts-de-seine.fr/api/v2/catalog/datasets/archives-de-la-planete/files/' + fileshort\n",
    "    print(url)"
   ]
  },
  {
   "cell_type": "code",
   "execution_count": 47,
   "id": "5f13f327",
   "metadata": {},
   "outputs": [
    {
     "name": "stderr",
     "output_type": "stream",
     "text": [
      "100%|██████████| 3532/3532 [00:00<00:00, 82576.82it/s]\n"
     ]
    }
   ],
   "source": [
    "infolder = []\n",
    "downloaded = []\n",
    "error = []\n",
    "\n",
    "for file in tqdm(notdl):\n",
    "    if glob.glob(file):\n",
    "        infolder.append(file)\n",
    "    else:\n",
    "        try:\n",
    "            fileshort = file[:-4]\n",
    "            url = 'https://opendata.hauts-de-seine.fr/api/v2/catalog/datasets/archives-de-la-planete/files/' + fileshort\n",
    "            image_response = requests.get(url, stream=True, timeout=15)\n",
    "            with open(file, 'wb') as f:\n",
    "                f.write(requests.get(url, stream=True, timeout=15).content)\n",
    "            downloaded.append(file)\n",
    "        except:\n",
    "            error.append(file)\n",
    "            print('error for ' + file)\n",
    "    "
   ]
  },
  {
   "cell_type": "code",
   "execution_count": null,
   "id": "4a9bc2e4",
   "metadata": {},
   "outputs": [],
   "source": []
  }
 ],
 "metadata": {
  "kernelspec": {
   "display_name": "Python 3 (ipykernel)",
   "language": "python",
   "name": "python3"
  },
  "language_info": {
   "codemirror_mode": {
    "name": "ipython",
    "version": 3
   },
   "file_extension": ".py",
   "mimetype": "text/x-python",
   "name": "python",
   "nbconvert_exporter": "python",
   "pygments_lexer": "ipython3",
   "version": "3.11.3"
  }
 },
 "nbformat": 4,
 "nbformat_minor": 5
}
